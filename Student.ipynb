{
 "cells": [
  {
   "cell_type": "code",
   "execution_count": 1,
   "id": "eff7ec4f",
   "metadata": {},
   "outputs": [
    {
     "name": "stdout",
     "output_type": "stream",
     "text": [
      "Name: Emmanuel\n",
      "Age: 27\n",
      "Grades: [80, 70, 78]\n",
      "Average Grade: 76.00\n",
      "Name: Esther\n",
      "Age: 24\n",
      "Grades: [85, 90, 88]\n",
      "Average Grade: 87.67\n",
      "Thesis Title: AI in Education\n"
     ]
    }
   ],
   "source": [
    "## Create a Student class with attributes name, age, and grades (a list of integers).\n",
    "class Student:\n",
    "     def __init__(self, name, age, grades):\n",
    "            self.name = name\n",
    "            self.age = age\n",
    "            self.grades = grades    \n",
    "\n",
    "## Method to calculate the average grade\n",
    "     def average_grade(self):\n",
    "           if not self.grades:\n",
    "               return 0\n",
    "           return sum(self.grades) / len(self.grades)  \n",
    "\n",
    "## Method to display student details\n",
    "     def student_details (self):\n",
    "        average = self.average_grade()\n",
    "        print (f\"Name: {self.name}\")\n",
    "        print (f\"Age: {self.age}\")\n",
    "        print (f\"Grades: {self.grades}\")\n",
    "        print (f\"Average Grade: {average:.2f}\")\n",
    "\n",
    "## Create a GradStudent subclass that inherits from Student and adds an attribute thesis_title.\n",
    "class GradStudent(Student):\n",
    "    def __init__(self, name, age, grades, thesis_title):\n",
    "        super().__init__(name, age, grades)\n",
    "        self.thesis_title = thesis_title\n",
    "\n",
    "    def student_details(self):\n",
    "        super().student_details()\n",
    "        print (f\"Thesis Title: {self.thesis_title}\")\n",
    "    \n",
    "\n",
    "    ## EXAMPLES\n",
    "student1 = Student(\"Emmanuel\", 27, [80, 70, 78])  \n",
    "student1.student_details()\n",
    "\n",
    "gradstudent1 = GradStudent(\"Esther\", 24, [85, 90, 88], \"AI in Education\") \n",
    "gradstudent1.student_details()\n",
    "\n",
    "    \n",
    "        \n",
    "         \n",
    "         \n"
   ]
  }
 ],
 "metadata": {
  "kernelspec": {
   "display_name": "Python 3",
   "language": "python",
   "name": "python3"
  },
  "language_info": {
   "codemirror_mode": {
    "name": "ipython",
    "version": 3
   },
   "file_extension": ".py",
   "mimetype": "text/x-python",
   "name": "python",
   "nbconvert_exporter": "python",
   "pygments_lexer": "ipython3",
   "version": "3.13.9"
  }
 },
 "nbformat": 4,
 "nbformat_minor": 5
}
